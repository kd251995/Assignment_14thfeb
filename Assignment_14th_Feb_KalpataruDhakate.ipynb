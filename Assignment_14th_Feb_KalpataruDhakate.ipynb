{
 "cells": [
  {
   "cell_type": "markdown",
   "id": "da060cfd",
   "metadata": {},
   "source": [
    "# Knowledge Test"
   ]
  },
  {
   "cell_type": "code",
   "execution_count": 1,
   "id": "2c22d35f",
   "metadata": {},
   "outputs": [
    {
     "name": "stdout",
     "output_type": "stream",
     "text": [
      "Enter the number : 3\n"
     ]
    },
    {
     "data": {
      "text/plain": [
       "[0, 1, 1, 2]"
      ]
     },
     "execution_count": 1,
     "metadata": {},
     "output_type": "execute_result"
    }
   ],
   "source": [
    "a = int(input('Enter the number : '))\n",
    "l = [0,1]\n",
    "for i in range(2,a+1):\n",
    "    l.append(l[i-1]+l[i-2])\n",
    "l"
   ]
  },
  {
   "cell_type": "code",
   "execution_count": 2,
   "id": "844277ff",
   "metadata": {},
   "outputs": [
    {
     "name": "stdout",
     "output_type": "stream",
     "text": [
      "Enter the number : 152\n",
      "It is not\n"
     ]
    }
   ],
   "source": [
    "a = int(input('Enter the number : '))\n",
    "b = str(a)\n",
    "total = 0\n",
    "for i in b:\n",
    "    total += int(i)**3\n",
    "if total == a:\n",
    "    print('It is a Armstrong Number')\n",
    "else:\n",
    "    print('It is not')"
   ]
  },
  {
   "cell_type": "code",
   "execution_count": 3,
   "id": "81a95502",
   "metadata": {},
   "outputs": [
    {
     "name": "stdout",
     "output_type": "stream",
     "text": [
      "[1, 2, 3, 4] <class 'list'>\n",
      "(1, 2, 3, 4) <class 'tuple'>\n",
      "1\n",
      "1\n",
      "[3, 2, 3, 4]\n"
     ]
    },
    {
     "ename": "TypeError",
     "evalue": "'tuple' object does not support item assignment",
     "output_type": "error",
     "traceback": [
      "\u001b[1;31m---------------------------------------------------------------------------\u001b[0m",
      "\u001b[1;31mTypeError\u001b[0m                                 Traceback (most recent call last)",
      "\u001b[1;32m~\\AppData\\Local\\Temp/ipykernel_17732/3866839222.py\u001b[0m in \u001b[0;36m<module>\u001b[1;34m\u001b[0m\n\u001b[0;32m     12\u001b[0m \u001b[0ml\u001b[0m\u001b[1;33m[\u001b[0m\u001b[1;36m0\u001b[0m\u001b[1;33m]\u001b[0m \u001b[1;33m=\u001b[0m \u001b[1;36m3\u001b[0m\u001b[1;33m\u001b[0m\u001b[1;33m\u001b[0m\u001b[0m\n\u001b[0;32m     13\u001b[0m \u001b[0mprint\u001b[0m\u001b[1;33m(\u001b[0m\u001b[0ml\u001b[0m\u001b[1;33m)\u001b[0m\u001b[1;33m\u001b[0m\u001b[1;33m\u001b[0m\u001b[0m\n\u001b[1;32m---> 14\u001b[1;33m \u001b[0mt\u001b[0m\u001b[1;33m[\u001b[0m\u001b[1;36m0\u001b[0m\u001b[1;33m]\u001b[0m \u001b[1;33m=\u001b[0m \u001b[1;36m4\u001b[0m\u001b[1;33m\u001b[0m\u001b[1;33m\u001b[0m\u001b[0m\n\u001b[0m\u001b[0;32m     15\u001b[0m \u001b[0mprint\u001b[0m\u001b[1;33m(\u001b[0m\u001b[0mt\u001b[0m\u001b[1;33m)\u001b[0m\u001b[1;33m\u001b[0m\u001b[1;33m\u001b[0m\u001b[0m\n",
      "\u001b[1;31mTypeError\u001b[0m: 'tuple' object does not support item assignment"
     ]
    }
   ],
   "source": [
    "#1. List are enclosed in square brackets whereas tuple in round brackets.\n",
    "l = [1,2,3,4]   \n",
    "t = (1,2,3,4)\n",
    "\n",
    "print(l,type(l))\n",
    "print(t,type(t))\n",
    "\n",
    "print(l[0])\n",
    "print(t[0])\n",
    "\n",
    "#2. list are mutable wherease tuple are immutable that means you cannot assign value in case of tuple\n",
    "l[0] = 3\n",
    "print(l)\n",
    "t[0] = 4\n",
    "print(t)"
   ]
  },
  {
   "cell_type": "code",
   "execution_count": 4,
   "id": "7907f59c",
   "metadata": {},
   "outputs": [
    {
     "data": {
      "text/plain": [
       "'hello myself kalpataru'"
      ]
     },
     "execution_count": 4,
     "metadata": {},
     "output_type": "execute_result"
    }
   ],
   "source": [
    "def func(a,b):\n",
    "    'hello myself kalpataru'\n",
    "    return\n",
    "\n",
    "func.__doc__"
   ]
  },
  {
   "cell_type": "markdown",
   "id": "4e17b2f3",
   "metadata": {},
   "source": [
    "# Research Test"
   ]
  },
  {
   "cell_type": "markdown",
   "id": "544326d2",
   "metadata": {},
   "source": [
    "# PEP 8 \n",
    "\n",
    "The PEP is an abbreviation form of Python Enterprise Proposal. \n",
    "PEP 8 is a document that provides various guidelines to write the readable in Python. PEP 8 describes how the developer can write beautiful code. It was officially written in 2001 by Guido van Rossum, Barry Warsaw, and Nick Coghlan. \n",
    "The main aim of PEP is to enhance the readability and consistency of code.\n",
    "Every Python developer should read it at some point; here are the most important points extracted for you:\n",
    "    1. Use 4-space indentation and no tabs.\n",
    "    2. Use docstrings\n",
    "    3. Wrap lines so that they don’t exceed 79 characters \n",
    "    4. Use of regular and updated comments are valuable to both the coders and users \n",
    "    5. Use of trailing commas : This is not mandatory except while making a tuple.\n",
    "    5. Use Python’s default UTF-8 or ASCII encodings and not any fancy encodings, if it is meant for international environment.\n",
    "    6. Use spaces around operators and after commas, but not directly inside bracketing constructs\n",
    "    7. Naming Conventions\n",
    "    8. Characters that should not be used for identifiers \n",
    "    9. Don’t use non-ASCII characters in identifiers\n",
    "    10. Name your classes and functions consistently \n",
    "    11. While naming of function of methods always use self for the first argument "
   ]
  },
  {
   "cell_type": "markdown",
   "id": "5f99297b",
   "metadata": {},
   "source": [
    "# Range and Xrange\n",
    "\n",
    "range() vs xrange()\n",
    "1. range() – This returns a range object (a type of iterable).\n",
    "1. xrange() – This function returns the generator object that can be used to display numbers only by looping.\n",
    "\n",
    "2. range() returns – range object. \n",
    "2. xrange() returns – xrange() object. \n",
    "\n",
    "3. The variable storing the range created by range() takes more memory \n",
    "as compared to the variable storing the range using xrange().\n",
    "\n",
    "4.As range() returns the list, all the operations that can be applied on the list can be used on it. On the other hand, as xrange() returns the xrange object, \n",
    "operations associated to list cannot be applied on them, hence a disadvantage.\n",
    "\n",
    "5. Because of the fact that xrange() evaluates only the generator object containing only \n",
    "the values that are required by lazy evaluation, therefore is faster in implementation than range().\n",
    "\n",
    "range()\t                                                                xrange()\n",
    "Returns a list of integers.                                 \tReturns a generator object.\n",
    "Execution speed is slower\t                                    Execution speed is faster.\n",
    "Takes more memory as it keeps the entire list                   Takes less memory as it keeps only one \n",
    "element at a time in memory.                                      of elements in memory.                         "
   ]
  },
  {
   "cell_type": "markdown",
   "id": "68924f29",
   "metadata": {},
   "source": [
    "# Important differences between Python 2.x and Python 3.x\n",
    "\n",
    "1. If we are porting our code or executing python 3.x code in python 2.x, \n",
    "it can be dangerous if integer division changes go unnoticed (since it doesn’t raise any error).\n",
    "\n",
    "2. This is the most well-known change. In this, the print keyword in Python 2.x is replaced by the print() function in Python 3.x. However, parentheses work in Python 2 \n",
    "if space is added after the print keyword because the interpreter evaluates it as an expression. \n",
    "\n",
    "3. In Python 2, an implicit str type is ASCII. But in Python 3.x implicit str type is Unicode. \n",
    "\n",
    "4. xrange() of Python 2.x doesn’t exist in Python 3.x. In Python 2.x, range returns a list i.e. \n",
    "range(3) returns [0, 1, 2] while xrange returns a xrange object i. e., xrange(3)\n",
    "\n",
    "5. If we are planning to have Python 3 support in our 2 code, we can use _future_ imports in our code. \n",
    "For example, in the Python 2.x code below, we use Python 3.x’s integer division behavior using the __future__ module. \n",
    "\n"
   ]
  },
  {
   "cell_type": "code",
   "execution_count": 5,
   "id": "2da42860",
   "metadata": {},
   "outputs": [
    {
     "data": {
      "text/plain": [
       "True"
      ]
     },
     "execution_count": 5,
     "metadata": {},
     "output_type": "execute_result"
    }
   ],
   "source": [
    "def mirror(s):\n",
    "    str1 = \"AHIMOTUVWXY\"\n",
    "    d = {}\n",
    "    for i in s:\n",
    "        if i in str1:\n",
    "            return True\n",
    "    if s[::-1] == s:\n",
    "        return True\n",
    "\n",
    "mirror('HIM')"
   ]
  },
  {
   "cell_type": "code",
   "execution_count": 6,
   "id": "653b157c",
   "metadata": {},
   "outputs": [
    {
     "name": "stdout",
     "output_type": "stream",
     "text": [
      "12\n"
     ]
    },
    {
     "ename": "NameError",
     "evalue": "name 'updated_age' is not defined",
     "output_type": "error",
     "traceback": [
      "\u001b[1;31m---------------------------------------------------------------------------\u001b[0m",
      "\u001b[1;31mNameError\u001b[0m                                 Traceback (most recent call last)",
      "\u001b[1;32m~\\AppData\\Local\\Temp/ipykernel_17732/3222540555.py\u001b[0m in \u001b[0;36m<module>\u001b[1;34m\u001b[0m\n\u001b[0;32m      5\u001b[0m \u001b[1;33m\u001b[0m\u001b[0m\n\u001b[0;32m      6\u001b[0m \u001b[0mprint\u001b[0m\u001b[1;33m(\u001b[0m\u001b[0mage\u001b[0m\u001b[1;33m)\u001b[0m\u001b[1;33m\u001b[0m\u001b[1;33m\u001b[0m\u001b[0m\n\u001b[1;32m----> 7\u001b[1;33m \u001b[0mprint\u001b[0m\u001b[1;33m(\u001b[0m\u001b[0mupdated_age\u001b[0m\u001b[1;33m)\u001b[0m\u001b[1;33m\u001b[0m\u001b[1;33m\u001b[0m\u001b[0m\n\u001b[0m",
      "\u001b[1;31mNameError\u001b[0m: name 'updated_age' is not defined"
     ]
    }
   ],
   "source": [
    "age = 12         #global variable which are be used outside the function\n",
    "def local_variable():\n",
    "    updated_age = age + 20     #local variable which can be used only inside the function\n",
    "    print(a)\n",
    "\n",
    "print(age)\n",
    "print(updated_age)"
   ]
  },
  {
   "cell_type": "code",
   "execution_count": null,
   "id": "af3ff6e8",
   "metadata": {},
   "outputs": [],
   "source": []
  }
 ],
 "metadata": {
  "kernelspec": {
   "display_name": "Python 3 (ipykernel)",
   "language": "python",
   "name": "python3"
  },
  "language_info": {
   "codemirror_mode": {
    "name": "ipython",
    "version": 3
   },
   "file_extension": ".py",
   "mimetype": "text/x-python",
   "name": "python",
   "nbconvert_exporter": "python",
   "pygments_lexer": "ipython3",
   "version": "3.9.7"
  }
 },
 "nbformat": 4,
 "nbformat_minor": 5
}
